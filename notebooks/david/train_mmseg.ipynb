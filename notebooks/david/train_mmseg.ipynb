{
 "cells": [
  {
   "cell_type": "code",
   "execution_count": null,
   "metadata": {},
   "outputs": [],
   "source": [
    "#add mmseg to the path\n",
    "import sys\n",
    "mmseg_path = \"../../submodules/mmsegmentation/\"\n",
    "sys.path.append(mmseg_path)\n",
    "\n",
    "#check mmseg installation\n",
    "import os\n",
    "import torch, torchvision\n",
    "import mmcv\n",
    "from mmcv.ops import get_compiling_cuda_version, get_compiler_version\n",
    "import mmseg\n",
    "from mmseg.utils import register_all_modules\n",
    "from mmseg.apis import inference_model, init_model\n",
    "\n",
    "from mmengine import Config\n",
    "from mmengine.runner import Runner\n",
    "\n",
    "import matplotlib.pyplot as plt\n",
    "import numpy as np"
   ]
  },
  {
   "cell_type": "code",
   "execution_count": null,
   "metadata": {},
   "outputs": [],
   "source": [
    "#check versions of mmseg, mmcv, and mmsegmentation\n",
    "print('Pytorch Version', torch.__version__)\n",
    "print('CUDA available',torch.cuda.is_available())\n",
    "\n",
    "print('MMCV Version', mmcv.__version__)\n",
    "print('CUDA Version', get_compiling_cuda_version())\n",
    "print('Compiler Version', get_compiler_version())\n",
    "\n",
    "print('mmsegmentation Version', mmseg.__version__)"
   ]
  },
  {
   "cell_type": "code",
   "execution_count": null,
   "metadata": {},
   "outputs": [],
   "source": [
    "#define dataset path\n",
    "img_path = \"/data/david/Drive/images/validation/21.png\"\n",
    "ann_path = \"/data/david/Drive/annotations/validation/21_manual1.png\""
   ]
  },
  {
   "cell_type": "code",
   "execution_count": null,
   "metadata": {},
   "outputs": [],
   "source": [
    "#display test image\n",
    "img = mmcv.imread(img_path)\n",
    "plt.imshow(mmcv.bgr2rgb(img))"
   ]
  },
  {
   "cell_type": "code",
   "execution_count": null,
   "metadata": {},
   "outputs": [],
   "source": [
    "ann = mmcv.imread(ann_path)\n",
    "print(np.unique(ann))\n",
    "plt.imshow(ann * 255)"
   ]
  },
  {
   "cell_type": "code",
   "execution_count": null,
   "metadata": {},
   "outputs": [],
   "source": [
    "cfg_path = \"configs/unet/unet-s5-d16_deeplabv3_4xb4-40k_drive-64x64.py\"\n",
    "cfg = Config.fromfile(os.path.join(mmseg_path,cfg_path))\n",
    "\n",
    "#make any modifications to the configuration\n",
    "data_root = '/data/david/Drive/'\n",
    "cfg.data_root = data_root\n",
    "cfg.train_dataloader.dataset.dataset.data_root = data_root\n",
    "cfg.val_dataloader.dataset.data_root = data_root\n",
    "cfg.test_dataloader.dataset.data_root = data_root\n",
    "cfg.work_dir = os.path.join(mmseg_path,'work_dirs/unet_DRIVE')\n",
    "\n",
    "print(f'Config:\\n{cfg.pretty_text}')"
   ]
  },
  {
   "cell_type": "code",
   "execution_count": null,
   "metadata": {},
   "outputs": [],
   "source": [
    "runner = Runner.from_cfg(cfg)\n",
    "runner.train()"
   ]
  }
 ],
 "metadata": {
  "kernelspec": {
   "display_name": "ECE661_mmseg",
   "language": "python",
   "name": "python3"
  },
  "language_info": {
   "codemirror_mode": {
    "name": "ipython",
    "version": 3
   },
   "file_extension": ".py",
   "mimetype": "text/x-python",
   "name": "python",
   "nbconvert_exporter": "python",
   "pygments_lexer": "ipython3",
   "version": "3.10.13"
  }
 },
 "nbformat": 4,
 "nbformat_minor": 2
}
